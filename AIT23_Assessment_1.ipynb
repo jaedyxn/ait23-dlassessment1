{
  "nbformat": 4,
  "nbformat_minor": 0,
  "metadata": {
    "colab": {
      "provenance": [],
      "authorship_tag": "ABX9TyP1NouiV+Fex7wgkav2XrQR",
      "include_colab_link": true
    },
    "kernelspec": {
      "name": "python3",
      "display_name": "Python 3"
    },
    "language_info": {
      "name": "python"
    }
  },
  "cells": [
    {
      "cell_type": "markdown",
      "metadata": {
        "id": "view-in-github",
        "colab_type": "text"
      },
      "source": [
        "<a href=\"https://colab.research.google.com/github/jaedyxn/ait23-dlassessment1/blob/main/AIT23_Assessment_1.ipynb\" target=\"_parent\"><img src=\"https://colab.research.google.com/assets/colab-badge.svg\" alt=\"Open In Colab\"/></a>"
      ]
    },
    {
      "cell_type": "code",
      "execution_count": 1,
      "metadata": {
        "id": "LZ47D0yTEazC"
      },
      "outputs": [],
      "source": [
        "!wget https://hips.hearstapps.com/hmg-prod/images/dog-puppy-on-garden-royalty-free-image-1586966191.jpg -o img.jpg"
      ]
    },
    {
      "cell_type": "code",
      "source": [
        "import numpy\n",
        "\n"
      ],
      "metadata": {
        "id": "u4MO8MggEp8L"
      },
      "execution_count": null,
      "outputs": []
    }
  ]
}